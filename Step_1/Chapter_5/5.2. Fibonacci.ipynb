{
 "cells": [
  {
   "cell_type": "markdown",
   "id": "5ec21013",
   "metadata": {},
   "source": [
    "### **Задача.** По данному n (n - целое число в отрезке [0; 90]) вывести n-е число Фибоначчи."
   ]
  },
  {
   "cell_type": "markdown",
   "id": "65f047e2",
   "metadata": {},
   "source": [
    "#### Данное решение не эффективно и будет работать чрезвычайно долго, поскольку фактически число рекурсивных вызовов будет соответствовать величине ответа."
   ]
  },
  {
   "cell_type": "code",
   "execution_count": null,
   "id": "57ca2ac9",
   "metadata": {},
   "outputs": [],
   "source": [
    "def fib(n):\n",
    "    f_0 = 0\n",
    "    f_1 = 1\n",
    "    if n == 0:\n",
    "        return f_0\n",
    "    elif n == 1:\n",
    "        return f_1\n",
    "    else:\n",
    "        return fib(n - 1) + fib(n - 2) # 2 рекурсии существенно увеличивают время выполнения программного кода\n",
    "\n",
    "n = int(input())\n",
    "print(fib(n))"
   ]
  },
  {
   "cell_type": "markdown",
   "id": "d6ac4e9e",
   "metadata": {},
   "source": [
    "#### А такое решение намного эффективнее по времени:"
   ]
  },
  {
   "cell_type": "code",
   "execution_count": null,
   "id": "fc2df56b",
   "metadata": {},
   "outputs": [],
   "source": [
    "n = int(input())\n",
    "f = [0, 1]\n",
    "\n",
    "while len(f) <= n:\n",
    "    f.append(f[-1] + f[-2])\n",
    "\n",
    "print(f[n])"
   ]
  }
 ],
 "metadata": {
  "kernelspec": {
   "display_name": "Python 3",
   "language": "python",
   "name": "python3"
  },
  "language_info": {
   "codemirror_mode": {
    "name": "ipython",
    "version": 3
   },
   "file_extension": ".py",
   "mimetype": "text/x-python",
   "name": "python",
   "nbconvert_exporter": "python",
   "pygments_lexer": "ipython3",
   "version": "3.12.0"
  }
 },
 "nbformat": 4,
 "nbformat_minor": 5
}
