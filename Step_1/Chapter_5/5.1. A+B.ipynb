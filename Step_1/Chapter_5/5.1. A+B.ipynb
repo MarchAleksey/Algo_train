{
 "cells": [
  {
   "cell_type": "markdown",
   "id": "3c9343c8",
   "metadata": {},
   "source": [
    "### **Задача.** Даны два целых числа, записанных через пробел. Числа находятся в диапазоне от -1000 до 1000. \n",
    "### Требуется вывести их сумму."
   ]
  },
  {
   "cell_type": "code",
   "execution_count": 2,
   "id": "960098a5",
   "metadata": {},
   "outputs": [
    {
     "name": "stdout",
     "output_type": "stream",
     "text": [
      "7\n"
     ]
    }
   ],
   "source": [
    "a, b = map(int, input().split())\n",
    "print(a + b)"
   ]
  }
 ],
 "metadata": {
  "kernelspec": {
   "display_name": "Python 3",
   "language": "python",
   "name": "python3"
  },
  "language_info": {
   "codemirror_mode": {
    "name": "ipython",
    "version": 3
   },
   "file_extension": ".py",
   "mimetype": "text/x-python",
   "name": "python",
   "nbconvert_exporter": "python",
   "pygments_lexer": "ipython3",
   "version": "3.12.0"
  }
 },
 "nbformat": 4,
 "nbformat_minor": 5
}
