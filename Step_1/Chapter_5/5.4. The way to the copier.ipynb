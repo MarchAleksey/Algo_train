{
 "cells": [
  {
   "cell_type": "markdown",
   "id": "d568fa51",
   "metadata": {},
   "source": [
    "### **Задача.** Ксероксы находятся в здании университета на каждом k-м этаже (т.е. на этажах с номерами k, 2k, 3k и т.д.). Вася находится на этаже с номером n. По данным n и k (натуральным числам, не превосходящим 10^9) выведите минимальное число этажей, которое потребуется пройти Васе до ксерокса."
   ]
  },
  {
   "cell_type": "code",
   "execution_count": 10,
   "id": "801086a3",
   "metadata": {},
   "outputs": [
    {
     "name": "stdout",
     "output_type": "stream",
     "text": [
      "8\n"
     ]
    }
   ],
   "source": [
    "n, k = map(int, input().split())\n",
    "\n",
    "if k == 1 or n == k:\n",
    "    print(0)\n",
    "elif n < k:\n",
    "    print(k - n)\n",
    "else:\n",
    "    print(n % k)"
   ]
  }
 ],
 "metadata": {
  "kernelspec": {
   "display_name": "Python 3",
   "language": "python",
   "name": "python3"
  },
  "language_info": {
   "codemirror_mode": {
    "name": "ipython",
    "version": 3
   },
   "file_extension": ".py",
   "mimetype": "text/x-python",
   "name": "python",
   "nbconvert_exporter": "python",
   "pygments_lexer": "ipython3",
   "version": "3.12.0"
  }
 },
 "nbformat": 4,
 "nbformat_minor": 5
}
