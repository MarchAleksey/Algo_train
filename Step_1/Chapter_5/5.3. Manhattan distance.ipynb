{
 "cells": [
  {
   "cell_type": "markdown",
   "id": "3aa1c85a",
   "metadata": {},
   "source": [
    "### **Задача.** Карта Манхэттена представляет собой прямоугольную решетку некоторого размера с фиксированным шагом. Каждый перекресток описывается двумя координатами (x, y) - номерами горизонтальной и вертикальной улиц. Наша задача - помочь таксисту найти кратчайший путь между двумя заданными точками. Известно, что таксист преодолевает каждый квартал за одну и ту же единицу времени, а повороты совершает мгновенно.\n",
    "### В первой строке входных данных даны координаты (x_1, y_1) стартового перекрестка, во второй - координаты (x_2, y_2) конечного перекрестка. Координаты - натуральные числа, не превосходящие 10^4. Вывести требуется длину кратчайшего пути."
   ]
  },
  {
   "cell_type": "code",
   "execution_count": 3,
   "id": "03103016",
   "metadata": {},
   "outputs": [
    {
     "name": "stdout",
     "output_type": "stream",
     "text": [
      "30\n"
     ]
    }
   ],
   "source": [
    "x_1, y_1 = map(int, input().split())\n",
    "x_2, y_2 = map(int, input().split())\n",
    "\n",
    "length = abs(x_1 - x_2) + abs(y_1 - y_2)\n",
    "print(length)"
   ]
  }
 ],
 "metadata": {
  "kernelspec": {
   "display_name": "Python 3",
   "language": "python",
   "name": "python3"
  },
  "language_info": {
   "codemirror_mode": {
    "name": "ipython",
    "version": 3
   },
   "file_extension": ".py",
   "mimetype": "text/x-python",
   "name": "python",
   "nbconvert_exporter": "python",
   "pygments_lexer": "ipython3",
   "version": "3.12.0"
  }
 },
 "nbformat": 4,
 "nbformat_minor": 5
}
